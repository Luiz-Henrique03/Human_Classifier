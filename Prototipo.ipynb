{
  "nbformat": 4,
  "nbformat_minor": 0,
  "metadata": {
    "colab": {
      "provenance": []
    },
    "kernelspec": {
      "name": "python3",
      "display_name": "Python 3"
    },
    "language_info": {
      "name": "python"
    }
  },
  "cells": [
    {
      "cell_type": "markdown",
      "source": [
        "\n",
        "\n",
        "```\n",
        "Importar bibliotecas necessárias\n",
        "\n",
        "```\n",
        "\n"
      ],
      "metadata": {
        "id": "kPNxzh3xoTIG"
      }
    },
    {
      "cell_type": "markdown",
      "source": [
        "Carregar Drive"
      ],
      "metadata": {
        "id": "1ik-mnk-o64c"
      }
    },
    {
      "cell_type": "code",
      "source": [
        "from google.colab import drive\n",
        "drive.mount('/content/drive')"
      ],
      "metadata": {
        "id": "Luhpf-0Wo-Js"
      },
      "execution_count": null,
      "outputs": []
    },
    {
      "cell_type": "code",
      "source": [
        "from keras.models import Sequential\n",
        "from keras.layers import Conv2D, MaxPooling2D, Flatten, Dense, Dropout, BatchNormalization\n",
        "from keras.preprocessing.image import ImageDataGenerator\n",
        "import matplotlib.pyplot as plt"
      ],
      "metadata": {
        "id": "Q3MwwkLnob2f"
      },
      "execution_count": 9,
      "outputs": []
    },
    {
      "cell_type": "markdown",
      "source": [
        "Construção da CNN"
      ],
      "metadata": {
        "id": "U-OU-4OxoddO"
      }
    },
    {
      "cell_type": "code",
      "source": [
        "classificador = Sequential()\n",
        "classificador.add(Conv2D(32, (3,3), input_shape = (128, 128, 3), activation = 'relu'))\n",
        "classificador.add(BatchNormalization())\n",
        "classificador.add(MaxPooling2D(pool_size = (2,2)))\n",
        "\n",
        "classificador.add(Conv2D(32, (3,3), input_shape = (128, 128, 3), activation = 'relu'))\n",
        "classificador.add(BatchNormalization())\n",
        "classificador.add(MaxPooling2D(pool_size = (2,2)))\n",
        "\n",
        "classificador.add(Flatten())\n",
        "classificador.add(Dense(units = 56, activation = 'relu'))\n",
        "classificador.add(Dropout(0.2))\n",
        "classificador.add(Dense(units = 56, activation = 'relu'))\n",
        "classificador.add(Dropout(0.2))\n",
        "classificador.add(Dense(units = 1, activation = 'sigmoid'))"
      ],
      "metadata": {
        "id": "Vt8mlluxojcm"
      },
      "execution_count": null,
      "outputs": []
    },
    {
      "cell_type": "markdown",
      "source": [
        "Compilar o modelo"
      ],
      "metadata": {
        "id": "vNspry10okuG"
      }
    },
    {
      "cell_type": "code",
      "source": [
        "classificador.compile(optimizer = 'adam', loss = 'binary_crossentropy', metrics = ['accuracy'])\n"
      ],
      "metadata": {
        "id": "qTNlf9MCooLM"
      },
      "execution_count": null,
      "outputs": []
    },
    {
      "cell_type": "markdown",
      "source": [
        "Pré-processamento\n"
      ],
      "metadata": {
        "id": "JYOqx0ldopKE"
      }
    },
    {
      "cell_type": "code",
      "source": [
        "\n",
        "gerador = ImageDataGenerator(rescale = 1./255,\n",
        "                             rotation_range = 7,\n",
        "                             horizontal_flip = True,\n",
        "                             shear_range = 0.2,\n",
        "                             height_shift_range = 0.07,\n",
        "                             zoom_range = 0.2,\n",
        "                             validation_split=0.1)\n"
      ],
      "metadata": {
        "id": "hiGke0UYoraU"
      },
      "execution_count": null,
      "outputs": []
    },
    {
      "cell_type": "markdown",
      "source": [
        "Carregar dados\n"
      ],
      "metadata": {
        "id": "Rab_4ymGoszW"
      }
    },
    {
      "cell_type": "code",
      "execution_count": 1,
      "metadata": {
        "colab": {
          "base_uri": "https://localhost:8080/"
        },
        "id": "TL8f9LymfJ2Q",
        "outputId": "29526a89-cd1a-49a6-9605-a0e2080737e3"
      },
      "outputs": [
        {
          "output_type": "stream",
          "name": "stdout",
          "text": [
            "Found 180 images belonging to 2 classes.\n",
            "Found 20 images belonging to 2 classes.\n",
            "Epoch 1/5\n",
            "9/9 [==============================] - 37s 4s/step - loss: 1.7110 - accuracy: 0.6333 - val_loss: 0.6691 - val_accuracy: 0.6000\n",
            "Epoch 2/5\n",
            "9/9 [==============================] - 7s 687ms/step - loss: 0.9097 - accuracy: 0.7778 - val_loss: 0.7064 - val_accuracy: 0.5500\n",
            "Epoch 3/5\n",
            "9/9 [==============================] - 5s 597ms/step - loss: 0.7473 - accuracy: 0.8389 - val_loss: 0.7009 - val_accuracy: 0.6500\n",
            "Epoch 4/5\n",
            "9/9 [==============================] - 5s 508ms/step - loss: 0.8442 - accuracy: 0.8333 - val_loss: 0.7544 - val_accuracy: 0.5500\n",
            "Epoch 5/5\n",
            "9/9 [==============================] - 6s 716ms/step - loss: 0.7152 - accuracy: 0.8333 - val_loss: 0.8693 - val_accuracy: 0.4000\n"
          ]
        },
        {
          "output_type": "execute_result",
          "data": {
            "text/plain": [
              "<keras.src.callbacks.History at 0x7e2ce4c20af0>"
            ]
          },
          "metadata": {},
          "execution_count": 1
        }
      ],
      "source": [
        "\n",
        "base_treinamento = gerador.flow_from_directory('/content/drive/MyDrive/retrato_outro/training',\n",
        "                                               target_size = (128, 128),\n",
        "                                               batch_size = 20,\n",
        "                                               class_mode = 'binary',\n",
        "                                               subset = 'training')\n",
        "\n",
        "base_teste = gerador.flow_from_directory('/content/drive/MyDrive/retrato_outro/validation',\n",
        "                                         target_size = (128, 128),\n",
        "                                         batch_size = 20,\n",
        "                                         class_mode = 'binary',\n",
        "                                         subset= 'validation')\n",
        "\n"
      ]
    },
    {
      "cell_type": "markdown",
      "source": [
        "Treinar o modelo"
      ],
      "metadata": {
        "id": "ZA7Z_oiPovbV"
      }
    },
    {
      "cell_type": "code",
      "source": [
        "historico = classificador.fit(base_treinamento, epochs = 5, validation_data = base_teste, batch_size=10)\n",
        "# Extrair perda e acurácia do histórico\n",
        "loss = historico.history['loss']\n",
        "val_loss = historico.history['val_loss']\n",
        "accuracy = historico.history['accuracy']\n",
        "val_accuracy = historico.history['val_accuracy']\n",
        "\n",
        "# Plotar perda\n",
        "plt.plot(loss, label='Training Loss')\n",
        "plt.plot(val_loss, label='Validation Loss')\n",
        "plt.title('Training and Validation Loss')\n",
        "plt.xlabel('Epoch')\n",
        "plt.ylabel('Loss')\n",
        "plt.legend()\n",
        "plt.show()\n"
      ],
      "metadata": {
        "colab": {
          "base_uri": "https://localhost:8080/",
          "height": 646
        },
        "id": "FlYf5bkEo3xE",
        "outputId": "dad87404-9fd5-4531-a0f7-11e03e1d2383"
      },
      "execution_count": 10,
      "outputs": [
        {
          "output_type": "stream",
          "name": "stdout",
          "text": [
            "Epoch 1/5\n",
            "8/8 [==============================] - 5s 636ms/step - loss: 0.2382 - accuracy: 0.9375 - val_loss: 6.8274 - val_accuracy: 0.5000\n",
            "Epoch 2/5\n",
            "8/8 [==============================] - 6s 738ms/step - loss: 0.3120 - accuracy: 0.9500 - val_loss: 7.3186 - val_accuracy: 0.5000\n",
            "Epoch 3/5\n",
            "8/8 [==============================] - 5s 650ms/step - loss: 0.2468 - accuracy: 0.9750 - val_loss: 6.6537 - val_accuracy: 0.5000\n",
            "Epoch 4/5\n",
            "8/8 [==============================] - 5s 549ms/step - loss: 0.4688 - accuracy: 0.9563 - val_loss: 6.3625 - val_accuracy: 0.5000\n",
            "Epoch 5/5\n",
            "8/8 [==============================] - 6s 712ms/step - loss: 0.2461 - accuracy: 0.9438 - val_loss: 3.5811 - val_accuracy: 0.5000\n"
          ]
        },
        {
          "output_type": "display_data",
          "data": {
            "text/plain": [
              "<Figure size 640x480 with 1 Axes>"
            ],
            "image/png": "[encoded data removed]"
          },
          "metadata": {}
        }
      ]
    },
    {
      "cell_type": "markdown",
      "source": [
        "Teste Modelo\n"
      ],
      "metadata": {
        "id": "r8C3X6jNoPHw"
      }
    },
    {
      "cell_type": "code",
      "source": [
        "from keras.models import Sequential\n",
        "from keras.layers import Conv2D, MaxPooling2D, Flatten, Dense, Dropout, BatchNormalization\n",
        "from keras.preprocessing.image import ImageDataGenerator\n",
        "from keras.utils import load_img, img_to_array\n",
        "\n",
        "import numpy as np\n",
        "\n",
        "#-------------------------------------------------------------------------\n",
        "\n",
        "# Gerando os padrões da rede função relu e sigmoid(perto de 0 = outro, perto de 1 = retrato)\n",
        "classificador = Sequential()\n",
        "classificador.add(Conv2D(32, (3,3), input_shape = (128, 128, 3), activation = 'relu'))\n",
        "classificador.add(BatchNormalization())\n",
        "classificador.add(MaxPooling2D(pool_size = (2,2)))\n",
        "\n",
        "classificador.add(Conv2D(32, (3,3), input_shape = (128, 128, 3), activation = 'relu'))\n",
        "classificador.add(BatchNormalization())\n",
        "classificador.add(MaxPooling2D(pool_size = (2,2)))\n",
        "\n",
        "classificador.add(Flatten())\n",
        "\n",
        "classificador.add(Dense(units = 128, activation = 'relu'))\n",
        "classificador.add(Dropout(0.2))\n",
        "classificador.add(Dense(units = 128, activation = 'relu'))\n",
        "classificador.add(Dropout(0.2))\n",
        "classificador.add(Dense(units = 1, activation = 'sigmoid'))\n",
        "\n",
        "classificador.compile(optimizer = 'adam', loss = 'binary_crossentropy',\n",
        "                      metrics = ['accuracy'])\n",
        "\n",
        "gerador = ImageDataGenerator(rescale = 1./255,\n",
        "                                         rotation_range = 7,\n",
        "                                         horizontal_flip = True,\n",
        "                                         shear_range = 0.2,\n",
        "                                         height_shift_range = 0.07,\n",
        "                                         zoom_range = 0.2,\n",
        "                                         validation_split=0.2)#Divide em treinamento e teste na proporção 80/20\n",
        "\n",
        "# A partir daqui estou teianando a rede.\n",
        "\n",
        "base_treinamento = gerador.flow_from_directory('/content/drive/MyDrive/retrato_outro/training',\n",
        "                                                           target_size = (128, 128),\n",
        "                                                           batch_size = 20,\n",
        "                                                           class_mode = 'binary',\n",
        "                                                           subset = 'training')#Atribui como parte para treinamento(80% das imagens)\n",
        "base_teste = gerador.flow_from_directory('/content/drive/MyDrive/retrato_outro/training',\n",
        "                                               target_size = (128, 128),\n",
        "                                               batch_size = 20,\n",
        "                                               class_mode = 'binary',\n",
        "                                               subset = 'validation')#Atribui como parte para testes(20% das imagens)\n",
        "\n",
        "\n",
        "# steps_per_epoch = 4000 == POrque tenho 4000 imagens na base Treinamento.\n",
        "classificador.fit(base_treinamento, epochs = 5, validation_data = base_teste,\n",
        "\n",
        "                            # validation_steps = 1000 porque tenho 1000 imagens nos testes.\n",
        "                            validation_steps = 20000 / 20)\n",
        "\n",
        "#Parte do código que vai testar a imagem nova que chega\n",
        "\n",
        "imagem_teste = load_img('/content/drive/MyDrive/retrato_outro/training/human/0000.png',\n",
        "                              target_size = (128,128))\n",
        "imagem_teste = img_to_array(imagem_teste)\n",
        "imagem_teste /= 255\n",
        "imagem_teste = np.expand_dims(imagem_teste, axis = 0)\n",
        "previsao = classificador.predict(imagem_teste)\n",
        "\n",
        "base_treinamento.class_indices\n",
        "\n",
        "\n",
        "\n",
        "\n",
        "\n",
        "\n",
        "\n",
        "\n",
        "\n",
        "\n",
        "\n",
        "\n",
        "\n",
        "\n",
        "\n",
        "\n",
        "\n",
        "\n",
        "\n",
        "\n",
        "\n",
        "\n",
        "\n",
        "\n",
        "\n"
      ],
      "metadata": {
        "colab": {
          "base_uri": "https://localhost:8080/"
        },
        "id": "yNqs21FkmXnN",
        "outputId": "c9c67ec2-b29f-4b5b-a4d1-80a24c4ce649"
      },
      "execution_count": 5,
      "outputs": [
        {
          "output_type": "stream",
          "name": "stdout",
          "text": [
            "Found 160 images belonging to 2 classes.\n",
            "Found 40 images belonging to 2 classes.\n",
            "Epoch 1/5\n",
            "8/8 [==============================] - ETA: 0s - loss: 1.6414 - accuracy: 0.6875"
          ]
        },
        {
          "output_type": "stream",
          "name": "stderr",
          "text": [
            "WARNING:tensorflow:Your input ran out of data; interrupting training. Make sure that your dataset or generator can generate at least `steps_per_epoch * epochs` batches (in this case, 1000.0 batches). You may need to use the repeat() function when building your dataset.\n"
          ]
        },
        {
          "output_type": "stream",
          "name": "stdout",
          "text": [
            "\b\b\b\b\b\b\b\b\b\b\b\b\b\b\b\b\b\b\b\b\b\b\b\b\b\b\b\b\b\b\b\b\b\b\b\b\b\b\b\b\b\b\b\b\b\b\b\b\b\b\b\b\b\b\b\b\b\b\b\b\b\b\b\b\b\b\b\b\b\b\b\b\b\b\b\b\b\b\b\b\r8/8 [==============================] - 6s 606ms/step - loss: 1.6414 - accuracy: 0.6875 - val_loss: 0.6806 - val_accuracy: 0.6500\n",
            "Epoch 2/5\n",
            "8/8 [==============================] - 4s 476ms/step - loss: 0.9149 - accuracy: 0.8625\n",
            "Epoch 3/5\n",
            "8/8 [==============================] - 6s 641ms/step - loss: 1.5473 - accuracy: 0.8000\n",
            "Epoch 4/5\n",
            "8/8 [==============================] - 4s 450ms/step - loss: 0.5573 - accuracy: 0.9250\n",
            "Epoch 5/5\n",
            "8/8 [==============================] - 4s 501ms/step - loss: 0.7043 - accuracy: 0.8438\n",
            "1/1 [==============================] - 0s 141ms/step\n"
          ]
        },
        {
          "output_type": "execute_result",
          "data": {
            "text/plain": [
              "{'human': 0, 'notHuman': 1}"
            ]
          },
          "metadata": {},
          "execution_count": 5
        }
      ]
    }
  ]
}